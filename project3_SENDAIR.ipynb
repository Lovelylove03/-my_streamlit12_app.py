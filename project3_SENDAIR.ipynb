{
  "nbformat": 4,
  "nbformat_minor": 0,
  "metadata": {
    "colab": {
      "provenance": [],
      "authorship_tag": "ABX9TyNcLD3O6l0ZZNK7HtBQGAd8",
      "include_colab_link": true
    },
    "kernelspec": {
      "name": "python3",
      "display_name": "Python 3"
    },
    "language_info": {
      "name": "python"
    }
  },
  "cells": [
    {
      "cell_type": "markdown",
      "metadata": {
        "id": "view-in-github",
        "colab_type": "text"
      },
      "source": [
        "<a href=\"https://colab.research.google.com/github/Lovelylove03/-my_streamlit12_app.py/blob/main/project3_SENDAIR.ipynb\" target=\"_parent\"><img src=\"https://colab.research.google.com/assets/colab-badge.svg\" alt=\"Open In Colab\"/></a>"
      ]
    },
    {
      "cell_type": "markdown",
      "source": [
        "1. Data Exploration\n",
        "Objective: Understand the data structure, clean it, and prepare it for analysis.\n",
        "\n",
        "Steps:\n",
        "\n",
        "Load the datasets (flight.csv, airports.csv, airlines.csv).\n",
        "Inspect the datasets to identify missing values, outliers, and anomalies.\n",
        "Clean the data: Handle missing values, remove duplicates, and correct any inconsistent data.\n",
        "Generate summary statistics and visualizations to understand data distribution.\n"
      ],
      "metadata": {
        "id": "bM0rVGR51_YS"
      }
    },
    {
      "cell_type": "code",
      "execution_count": null,
      "metadata": {
        "id": "5Lo_sIsV1ZkQ"
      },
      "outputs": [],
      "source": [
        "import pandas as pd\n",
        "import matplotlib.pyplot as plt\n",
        "import seaborn as sns\n",
        "\n",
        "# Load datasets\n",
        "flights = pd.read_csv('flight.csv')\n",
        "airports = pd.read_csv('airports.csv')\n",
        "airlines = pd.read_csv('airlines.csv')\n",
        "\n",
        "# Inspect the first few rows\n",
        "print(flights.head())\n",
        "print(airports.head())\n",
        "print(airlines.head())\n",
        "\n",
        "# Check for missing values\n",
        "print(flights.isnull().sum())\n",
        "print(airports.isnull().sum())\n",
        "print(airlines.isnull().sum())\n",
        "\n",
        "# Visualize data distribution\n",
        "sns.histplot(flights['delay_minutes'], kde=True)\n",
        "plt.show()\n"
      ]
    },
    {
      "cell_type": "markdown",
      "source": [
        "Analysis of Delays\n",
        "Objective: Identify patterns in flight delays.\n",
        "\n",
        "Steps:\n",
        "\n",
        "Calculate the average delay for each airline, airport, and day of the week.\n",
        "Identify the most significant sources of delays.\n",
        "Create visualizations to highlight these findings.\n"
      ],
      "metadata": {
        "id": "PSdkQb8x1-IM"
      }
    },
    {
      "cell_type": "code",
      "source": [
        "# Calculate average delay by airline\n",
        "avg_delay_airline = flights.groupby('airline')['delay_minutes'].mean().reset_index()\n",
        "\n",
        "# Visualize average delay by airline\n",
        "sns.barplot(x='airline', y='delay_minutes', data=avg_delay_airline)\n",
        "plt.title('Average Delay by Airline')\n",
        "plt.show()\n"
      ],
      "metadata": {
        "id": "96evhvfc2ddx"
      },
      "execution_count": null,
      "outputs": []
    },
    {
      "cell_type": "markdown",
      "source": [
        "Geocoding and Visualization\n",
        "Objective: Visualize airport locations and their associated delay statistics.\n",
        "\n",
        "Steps:\n",
        "\n",
        "Merge the flight data with the airport data based on airport codes.\n",
        "Use geocoding to map airports on an interactive map.\n",
        "Create visualizations showing the distribution of delays across different airports.\n"
      ],
      "metadata": {
        "id": "jcdYiyDJ2mMN"
      }
    },
    {
      "cell_type": "code",
      "source": [
        "import folium\n",
        "\n",
        "# Merge flights with airports\n",
        "flights_airports = pd.merge(flights, airports, left_on='origin_airport', right_on='iata_code')\n",
        "\n",
        "# Create a map\n",
        "m = folium.Map(location=[40, -95], zoom_start=4)\n",
        "\n",
        "# Add airport locations\n",
        "for _, row in flights_airports.iterrows():\n",
        "    folium.Marker([row['latitude'], row['longitude']],\n",
        "                  popup=f\"{row['airport_name']} - Avg Delay: {row['delay_minutes']} min\").add_to(m)\n",
        "\n",
        "# Show map\n",
        "m.save('airports_map.html')\n"
      ],
      "metadata": {
        "id": "J6iEb8tF2x_u"
      },
      "execution_count": null,
      "outputs": []
    },
    {
      "cell_type": "markdown",
      "source": [
        "Machine Learning Model for Delay Prediction\n",
        "Objective: Predict flight delays using machine learning.\n",
        "\n",
        "Steps:\n",
        "\n",
        "Prepare the data: Convert categorical variables, split the data into features and labels.\n",
        "Train a machine learning model (e.g., Random Forest, XGBoost).\n",
        "Evaluate the model’s performance (e.g., accuracy, precision, recall).\n"
      ],
      "metadata": {
        "id": "M41DrOwL2222"
      }
    },
    {
      "cell_type": "code",
      "source": [
        "from sklearn.model_selection import train_test_split\n",
        "from sklearn.ensemble import RandomForestClassifier\n",
        "from sklearn.metrics import classification_report\n",
        "\n",
        "# Convert categorical variables using one-hot encoding\n",
        "flights_encoded = pd.get_dummies(flights, columns=['airline', 'origin_airport', 'destination_airport'])\n",
        "\n",
        "# Split the data\n",
        "X = flights_encoded.drop('delay_binary', axis=1)  # Assuming delay_binary is your target\n",
        "y = flights_encoded['delay_binary']\n",
        "X_train, X_test, y_train, y_test = train_test_split(X, y, test_size=0.2, random_state=42)\n",
        "\n",
        "# Train a Random Forest model\n",
        "model = RandomForestClassifier(n_estimators=100, random_state=42)\n",
        "model.fit(X_train, y_train)\n",
        "\n",
        "# Predict and evaluate\n",
        "y_pred = model.predict(X_test)\n",
        "print(classification_report(y_test, y_pred))\n"
      ],
      "metadata": {
        "id": "2WNBAZiy3ES0"
      },
      "execution_count": null,
      "outputs": []
    },
    {
      "cell_type": "markdown",
      "source": [
        " Customer Feedback Analysis\n",
        "Objective: Analyze customer reviews and predict sentiment.\n",
        "\n",
        "Steps:\n",
        "\n",
        "Perform sentiment analysis on the review text.\n",
        "Identify common positive and negative feedback themes.\n",
        "Visualize the distribution of sentiments across different airlines."
      ],
      "metadata": {
        "id": "vWO9Ed2Z3NGG"
      }
    },
    {
      "cell_type": "code",
      "source": [
        "from textblob import TextBlob\n",
        "\n",
        "# Analyze sentiment\n",
        "def get_sentiment(text):\n",
        "    analysis = TextBlob(text)\n",
        "    return 'positive' if analysis.sentiment.polarity > 0 else 'negative'\n",
        "\n",
        "reviews['sentiment'] = reviews['review_text'].apply(get_sentiment)\n",
        "\n",
        "# Visualize sentiment distribution\n",
        "sns.countplot(x='airline', hue='sentiment', data=reviews)\n",
        "plt.title('Sentiment Analysis of Airline Reviews')\n",
        "plt.show()\n"
      ],
      "metadata": {
        "id": "aQWiL9uJ3bCE"
      },
      "execution_count": null,
      "outputs": []
    },
    {
      "cell_type": "markdown",
      "source": [],
      "metadata": {
        "id": "EKisQBp73fts"
      }
    }
  ]
}